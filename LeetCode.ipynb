{
  "nbformat": 4,
  "nbformat_minor": 0,
  "metadata": {
    "colab": {
      "provenance": [],
      "authorship_tag": "ABX9TyMhe7fhxFXj5suW+TjYtGb0",
      "include_colab_link": true
    },
    "kernelspec": {
      "name": "python3",
      "display_name": "Python 3"
    },
    "language_info": {
      "name": "python"
    }
  },
  "cells": [
    {
      "cell_type": "markdown",
      "metadata": {
        "id": "view-in-github",
        "colab_type": "text"
      },
      "source": [
        "<a href=\"https://colab.research.google.com/github/gilbe5jl/Leetcode-Solutions/blob/main/LeetCode.ipynb\" target=\"_parent\"><img src=\"https://colab.research.google.com/assets/colab-badge.svg\" alt=\"Open In Colab\"/></a>"
      ]
    },
    {
      "cell_type": "code",
      "source": [
        "def binary_search(lst,target):\n",
        "  left = 0\n",
        "  right = len(lst)-1\n",
        "  while left <= right:\n",
        "    mid = (left + right) // 2\n",
        "    if target == lst[mid]:\n",
        "      return mid\n",
        "    elif target < lst[mid]:\n",
        "      right = mid -1\n",
        "    else:\n",
        "      left = mid + 1\n",
        "  return -1"
      ],
      "metadata": {
        "id": "uBqcLBw5AzMx"
      },
      "execution_count": null,
      "outputs": []
    },
    {
      "cell_type": "code",
      "execution_count": 12,
      "metadata": {
        "colab": {
          "base_uri": "https://localhost:8080/"
        },
        "id": "QKwA5miPr6Xj",
        "outputId": "4f2d822c-59d2-4d09-cd1a-04cb66f3d3f8"
      },
      "outputs": [
        {
          "output_type": "stream",
          "name": "stdout",
          "text": [
            "54\n"
          ]
        }
      ],
      "source": [
        "'''\n",
        "I             1\n",
        "V             5\n",
        "X             10\n",
        "L             50\n",
        "C             100\n",
        "D             500\n",
        "M             1000\n",
        "\n",
        "\n",
        "    I can be placed before V (5) and X (10) to make 4 and 9.\n",
        "    X can be placed before L (50) and C (100) to make 40 and 90.\n",
        "    C can be placed before D (500) and M (1000) to make 400 and 900.\n",
        "\n",
        "'''\n",
        "\n",
        "def romanToInt(s):\n",
        "        \"\"\"\n",
        "        :type s: str\n",
        "        :rtype: int\n",
        "        \"\"\"\n",
        "        map = {'I':1, 'V':5, 'X':10, 'L':50, 'C':100, 'D':500, 'M':1000}\n",
        "        num = 0\n",
        "        for index,item in enumerate(s):\n",
        "          i = map[item]\n",
        "          if index == 0:\n",
        "            j = i\n",
        "          else:\n",
        "            j = map[s[index-1]]\n",
        "          if i <= j:\n",
        "            num += i\n",
        "          elif i > j:\n",
        "            num += i - j * 2\n",
        "        return num\n",
        "\n",
        "\n",
        "s =\"LIV\"\n",
        "print(romanToInt(s))"
      ]
    },
    {
      "cell_type": "code",
      "source": [
        "'''\n",
        "\n",
        "Write a function to find the longest common prefix string amongst an array of strings.\n",
        "\n",
        "If there is no common prefix, return an empty string \"\".\n",
        "\n",
        "\n",
        "\n",
        "Example 1:\n",
        "\n",
        "Input: strs = [\"flower\",\"flow\",\"flight\"]\n",
        "Output: \"fl\"\n",
        "\n",
        "Example 2:\n",
        "\n",
        "Input: strs = [\"dog\",\"racecar\",\"car\"]\n",
        "Output: \"\"\n",
        "Explanation: There is no common prefix among the input strings.\n",
        "\t•\tTake the first word as a starting point.\n",
        "\t•\tThen compare its letters with every other word, letter by letter.\n",
        "\t•\tIf they all match at that position, keep going.\n",
        "\t•\tIf any mismatch — stop. That’s the end of the prefix.\n",
        "\n",
        "'''\n",
        "\n",
        "def longestCommonPrefix(strs):\n",
        "    \"\"\"\n",
        "    :type strs: List[str] // array of strings\n",
        "    :rtype: str\n",
        "    \"\"\"\n",
        "    if not strs:\n",
        "      return \"\"\n",
        "    starting_point = strs[0]\n",
        "    starting_char = strs[0][0]\n",
        "    lst = []\n",
        "    for i in range(len(strs)-1):\n",
        "        # if strs[i][0] == starting_char and strs[i+1][0] == starting_char and i >0:\n",
        "        # print(i)\n",
        "        if i == 0:\n",
        "            lst.append(strs[i])\n",
        "            print(i,strs[i])\n",
        "        else:\n",
        "            lst.append(strs[i+1])\n",
        "            print(i,strs[i+1])\n",
        "\n",
        "\n",
        "    return lst\n",
        "\n",
        "\n",
        "x = [\"flower\",\"flow\",\"flight\"]\n",
        "print(longestCommonPrefix(x))\n"
      ],
      "metadata": {
        "colab": {
          "base_uri": "https://localhost:8080/"
        },
        "id": "nwageSuV-ZKN",
        "outputId": "0eb86b41-a921-4580-e7f6-770482d172e6"
      },
      "execution_count": 65,
      "outputs": [
        {
          "output_type": "stream",
          "name": "stdout",
          "text": [
            "0 flower\n",
            "1 flower\n",
            "['flower', 'flower']\n"
          ]
        }
      ]
    },
    {
      "cell_type": "code",
      "source": [
        "'''\n",
        "Pascal's Triangle\n",
        "\n",
        "Example 1:\n",
        "Input: numRows = 5\n",
        "Output: [[1],[1,1],[1,2,1],[1,3,3,1],[1,4,6,4,1]]\n",
        "\n",
        "Example 2:\n",
        "\n",
        "Input: numRows = 1\n",
        "Output: [[1]]\n",
        "'''\n",
        "\n",
        "def generate(numRows):\n",
        "    \"\"\"\n",
        "    :type numRows: int\n",
        "    :rtype: List[List[int]]\n",
        "    \"\"\"\n",
        "    lst = []\n",
        "    for i in range(1, numRows+1):\n",
        "      if i == 1:\n",
        "        lst.append([1])\n",
        "      else:\n",
        "        n=[]\n",
        "        for j in range(1, i+1):\n",
        "          if i >=3:\n",
        "            if j ==1 or j == i:\n",
        "              n.append(1)\n",
        "            else:\n",
        "              n.append(lst[i-2][j-1] + lst[i-2][j-2])\n",
        "          else:\n",
        "            n.append(1)\n",
        "        lst.append(n)\n",
        "    return lst\n",
        "\n",
        "x = 5\n",
        "print(generate(x))"
      ],
      "metadata": {
        "colab": {
          "base_uri": "https://localhost:8080/"
        },
        "id": "2nHXYCCNHE4x",
        "outputId": "a3421e49-9a9c-4779-f93d-c0fc23c441ab"
      },
      "execution_count": 103,
      "outputs": [
        {
          "output_type": "stream",
          "name": "stdout",
          "text": [
            "[[1], [1, 1], [1, 2, 1], [1, 3, 3, 1], [1, 4, 6, 4, 1]]\n"
          ]
        }
      ]
    },
    {
      "cell_type": "code",
      "source": [
        "'''\n",
        "Example 1:\n",
        "\n",
        "Input: digits = [1,2,3]\n",
        "Output: [1,2,4]\n",
        "Explanation: The array represents the integer 123.\n",
        "Incrementing by one gives 123 + 1 = 124.\n",
        "Thus, the result should be [1,2,4].\n",
        "\n",
        "Example 2:\n",
        "\n",
        "Input: digits = [4,3,2,1]\n",
        "Output: [4,3,2,2]\n",
        "Explanation: The array represents the integer 4321.\n",
        "Incrementing by one gives 4321 + 1 = 4322.\n",
        "Thus, the result should be [4,3,2,2].\n",
        "\n",
        "Example 3:\n",
        "\n",
        "Input: digits = [9]\n",
        "Output: [1,0]\n",
        "Explanation: The array represents the integer 9.\n",
        "Incrementing by one gives 9 + 1 = 10.\n",
        "Thus, the result should be [1,0].\n",
        "'''\n",
        "\n",
        "def plusOne(digits):\n",
        "    \"\"\"\n",
        "    :type digits: List[int]\n",
        "    :rtype: List[int]\n",
        "    \"\"\"\n",
        "    # num = 0\n",
        "    # for item in range(len(digits)):\n",
        "    #     z = (item-len(digits))*(-1)-1\n",
        "    #     digit = str(digits[item])\n",
        "    #     for j in range(z):\n",
        "    #         digit += '0'\n",
        "    #     num += int(digit)\n",
        "    # num = num + 1\n",
        "    # lst = []\n",
        "    # for i in str(num):\n",
        "    #     lst.append(int(i))\n",
        "    lst = []\n",
        "    for i in digits:\n",
        "        lst.append(str(i))\n",
        "    ss = ''.join(lst)\n",
        "    ss = str(int(ss) + 1)\n",
        "    lst = []\n",
        "    for i in ss:\n",
        "        lst.append(int(i))\n",
        "    return lst\n",
        "\n",
        "x = [4,3,2,1]\n",
        "print('answer:',plusOne(x))\n"
      ],
      "metadata": {
        "colab": {
          "base_uri": "https://localhost:8080/"
        },
        "id": "9fdI0_akkoi3",
        "outputId": "1829bdd9-e6f8-41d4-871e-afbd6a2bba9d"
      },
      "execution_count": 109,
      "outputs": [
        {
          "output_type": "stream",
          "name": "stdout",
          "text": [
            "answer: [4, 3, 2, 2]\n"
          ]
        }
      ]
    },
    {
      "cell_type": "code",
      "source": [
        "'''\n",
        "Example 1:\n",
        "\n",
        "Input: nums = [2,2,1]\n",
        "\n",
        "Output: 1\n",
        "\n",
        "Example 2:\n",
        "\n",
        "Input: nums = [4,1,2,1,2]\n",
        "\n",
        "Output: 4\n",
        "\n",
        "Example 3:\n",
        "\n",
        "Input: nums = [1]\n",
        "\n",
        "Output: 1\n",
        "'''\n",
        "\n",
        "def singleNumber(nums):\n",
        "    \"\"\"\n",
        "    :type nums: List[int]\n",
        "    :rtype: int\n",
        "    \"\"\"\n",
        "    ans = 0\n",
        "    for i in nums:\n",
        "        ans ^= i\n",
        "    return ans\n",
        "\n",
        "nums = [4,1,2,1,2]\n",
        "print(singleNumber(nums))"
      ],
      "metadata": {
        "colab": {
          "base_uri": "https://localhost:8080/"
        },
        "id": "yvBdr9gOmEwQ",
        "outputId": "643bcdd2-2928-4f75-b804-180386b48b0f"
      },
      "execution_count": 75,
      "outputs": [
        {
          "output_type": "stream",
          "name": "stdout",
          "text": [
            "4\n"
          ]
        }
      ]
    },
    {
      "cell_type": "code",
      "source": [
        "'''\n",
        "Example 1:\n",
        "\n",
        "Input: s = \"leetcode\"\n",
        "\n",
        "Output: 0\n",
        "\n",
        "Explanation:\n",
        "\n",
        "The character 'l' at index 0 is the first character that does not occur at any other index.\n",
        "\n",
        "Example 2:\n",
        "\n",
        "Input: s = \"loveleetcode\"\n",
        "\n",
        "Output: 2\n",
        "\n",
        "Example 3:\n",
        "\n",
        "Input: s = \"aabb\"\n",
        "\n",
        "Output: -1\n",
        "'''\n",
        "\n",
        "def firstUniqChar(s):\n",
        "    \"\"\"\n",
        "    :type s: str\n",
        "    :rtype: int\n",
        "    \"\"\"\n",
        "    map = {}\n",
        "    for char in s:\n",
        "      if char not in map:\n",
        "        map.update({char:1})\n",
        "      else:\n",
        "        map[char] += 1\n",
        "    for index,char in enumerate(s):\n",
        "      if map[char] == 1:\n",
        "        return index\n",
        "    return -1\n",
        "\n",
        "x = \"aabb\"\n",
        "print(firstUniqChar(x))\n"
      ],
      "metadata": {
        "colab": {
          "base_uri": "https://localhost:8080/"
        },
        "id": "ADLT8O_mGm9Q",
        "outputId": "207b88f3-bbea-42b6-f065-7ecad26589aa"
      },
      "execution_count": 24,
      "outputs": [
        {
          "output_type": "stream",
          "name": "stdout",
          "text": [
            "-1\n"
          ]
        }
      ]
    },
    {
      "cell_type": "code",
      "source": [
        "'''\n",
        "Example 1:\n",
        "\n",
        "Input: s = [\"h\",\"e\",\"l\",\"l\",\"o\"]\n",
        "Output: [\"o\",\"l\",\"l\",\"e\",\"h\"]\n",
        "\n",
        "Example 2:\n",
        "\n",
        "Input: s = [\"H\",\"a\",\"n\",\"n\",\"a\",\"h\"]\n",
        "Output: [\"h\",\"a\",\"n\",\"n\",\"a\",\"H\"]\n",
        "'''\n",
        "\n",
        "def reverseString(s):\n",
        "    \"\"\"\n",
        "    :type s: List[str]\n",
        "    :rtype: None Do not return anything, modify s in-place instead.\n",
        "    \"\"\"\n",
        "\n",
        "    swapper = [0, len(s)-1] # Changed to a list to allow modification\n",
        "    while swapper[0] < swapper[1]:\n",
        "      s[swapper[0]], s[swapper[1]] = s[swapper[1]], s[swapper[0]] # done to avoid temp var\n",
        "      swapper[0] += 1\n",
        "      swapper[1] -= 1\n",
        "\n",
        "# Example usage:\n",
        "s = [\"h\",\"e\",\"l\",\"l\",\"o\"]\n",
        "reverseString(s)\n",
        "print(s)\n",
        "\n",
        "# s = [\"H\",\"a\",\"n\",\"n\",\"a\",\"h\"]\n",
        "# reverseString(s)\n",
        "# print(s)"
      ],
      "metadata": {
        "colab": {
          "base_uri": "https://localhost:8080/"
        },
        "id": "wGtxqcKpLV0F",
        "outputId": "e9fd897a-e175-4e9a-f02f-f3aba66d2ca2"
      },
      "execution_count": 16,
      "outputs": [
        {
          "output_type": "stream",
          "name": "stdout",
          "text": [
            "['o', 'l', 'l', 'e', 'h']\n"
          ]
        }
      ]
    },
    {
      "cell_type": "code",
      "source": [
        "'''\n",
        "No.67\n",
        "Given two binary strings a and b, return their sum as a binary string.\n",
        "\n",
        "\n",
        "\n",
        "Example 1:\n",
        "\n",
        "Input: a = \"11\", b = \"1\"\n",
        "Output: \"100\"\n",
        "\n",
        "Example 2:\n",
        "\n",
        "Input: a = \"1010\", b = \"1011\"\n",
        "Output: \"10101\"\n",
        "'''\n",
        "\n",
        "def addBinary(a, b):\n",
        "    \"\"\"\n",
        "    :type a: str\n",
        "    :type b: str\n",
        "    :rtype: str\n",
        "    \"\"\"\n",
        "    # sum = int(a,2) + int(b,2)\n",
        "    # return bin(sum)[2:]\n",
        "    return bin(int(a,2) + int(b,2))[2:]\n",
        "\n",
        "# a = \"1010\"\n",
        "# b = \"1011\"\n",
        "# print(addBinary(a,b)\n",
        "# x = \"11\"\n",
        "# x = int(x)\n",
        "# print('int:',x)\n",
        "# x = bin(x)[2:]\n",
        "# print(x)\n",
        "# x = int(x,2)\n",
        "# print(x)\n",
        "\n",
        "a = \"11\"\n",
        "b = \"1\"\n",
        "print(addBinary(a,b))\n"
      ],
      "metadata": {
        "colab": {
          "base_uri": "https://localhost:8080/"
        },
        "id": "nyr7sTfrUpQ2",
        "outputId": "a3cbb137-cc47-4a11-9c0a-8a2a7452f0ef"
      },
      "execution_count": 30,
      "outputs": [
        {
          "output_type": "stream",
          "name": "stdout",
          "text": [
            "100\n"
          ]
        }
      ]
    },
    {
      "cell_type": "code",
      "source": [
        "'''\n",
        "Remove Element\n",
        "Example 1:\n",
        "\n",
        "Input: nums = [3,2,2,3], val = 3\n",
        "Output: 2, nums = [2,2,_,_]\n",
        "Explanation: Your function should return k = 2, with the first two elements of nums being 2.\n",
        "It does not matter what you leave beyond the returned k (hence they are underscores).\n",
        "\n",
        "Example 2:\n",
        "\n",
        "Input: nums = [0,1,2,2,3,0,4,2], val = 2\n",
        "Output: 5, nums = [0,1,4,0,3,_,_,_]\n",
        "Explanation: Your function should return k = 5, with the first five elements of nums containing 0, 0, 1, 3, and 4.\n",
        "Note that the five elements can be returned in any order.\n",
        "It does not matter what you leave beyond the returned k (hence they are underscores).\n",
        "\n",
        "\n",
        "    remove(): Removes the first occurrence of an element.\n",
        "    pop(): Removes the element at a specific index or the last element if no index is specified.\n",
        "    del statement: Deletes an element at a specified index.\n",
        "\n",
        "'''\n",
        "\n",
        "\n",
        "\n",
        "\n",
        "\n",
        "def removeElement(nums, val):\n",
        "    \"\"\"\n",
        "    :type nums: List[int]\n",
        "    :type val: int\n",
        "    :rtype: int\n",
        "    \"\"\"\n",
        "    count = 0\n",
        "    while count < len(nums)-1:\n",
        "      if nums[count] == val:\n",
        "        nums.pop(count)\n",
        "      else:\n",
        "        count += 1\n",
        "    print(nums)\n",
        "    return len(nums)\n",
        "\n",
        "nums = [0,1,2,2,3,0,4,2]\n",
        "val = 2\n",
        "print(removeElement(nums,val))"
      ],
      "metadata": {
        "colab": {
          "base_uri": "https://localhost:8080/"
        },
        "id": "nPJJxh-u3YEw",
        "outputId": "03845ae8-a24d-4c36-af52-d1ef7f62647a"
      },
      "execution_count": 1,
      "outputs": [
        {
          "output_type": "stream",
          "name": "stdout",
          "text": [
            "[0, 1, 3, 0, 4, 2]\n",
            "6\n"
          ]
        }
      ]
    },
    {
      "cell_type": "markdown",
      "source": [
        "#Step-by-step Approach:\n",
        "##  1. Insertion at Beginning in Linked List\n",
        "\n",
        "---\n",
        "  Create a new node with the given data.\\\n",
        "  Check if the head of the linked list is empty (i.e., `head == None`).\n",
        "\n",
        "*  If yes, set the new node as the head of the linked list.\n",
        "*  If no, proceed to the next step.\n",
        "\n",
        "Set the next pointer of the new node to the current head.\\\n",
        "Make the new node the new head of the linked list.\\\n",
        "Return the updated head (which is now the new node).\\\n",
        "\n",
        "---\n",
        "\n"
      ],
      "metadata": {
        "id": "z-sPoMTVWN5v"
      }
    },
    {
      "cell_type": "code",
      "source": [
        "'''\n",
        "21. Merge Two Sorted Lists\n",
        "Easy\n",
        "\n",
        "You are given the heads of two sorted linked lists list1 and list2.\n",
        "\n",
        "Merge the two lists into one sorted list. The list should be made by splicing together the nodes of the first two lists.\n",
        "\n",
        "Return the head of the merged linked list.\n",
        "Input: list1 = [1,2,4], list2 = [1,3,4]\n",
        "Output: [1,1,2,3,4,4]\n",
        "\n",
        "Example 2:\n",
        "\n",
        "Input: list1 = [], list2 = []\n",
        "Output: []\n",
        "\n",
        "Example 3:\n",
        "\n",
        "Input: list1 = [], list2 = [0]\n",
        "Output: [0]\n",
        "'''\n",
        "class Node(object):\n",
        "  def __init__(self, val):\n",
        "    self.val = val\n",
        "    self.next = None\n",
        "  def insertBegin(self,val):\n",
        "\n",
        "\n",
        "\n",
        "def mergeTwoLists( list1, list2):\n",
        "    \"\"\"\n",
        "    :type list1: Optional[ListNode]\n",
        "    :type list2: Optional[ListNode]\n",
        "    :rtype: Optional[ListNode]\n",
        "    \"\"\"\n",
        "    dummy_head = 0\n",
        "    pointer_alpha = list1\n",
        "    pointer_beta = list2\n",
        "    return list1\n",
        "\n",
        "list1 = [1,2,4]\n",
        "list2 = [1,3,4]\n",
        "print(mergeTwoLists(list1,list2))"
      ],
      "metadata": {
        "colab": {
          "base_uri": "https://localhost:8080/"
        },
        "id": "39gQChXS5h9J",
        "outputId": "daafb5b3-494b-4ed2-99b6-77ea4b0dceac"
      },
      "execution_count": 3,
      "outputs": [
        {
          "output_type": "stream",
          "name": "stdout",
          "text": [
            "[1, 1, 2, 3, 4, 4]\n"
          ]
        }
      ]
    },
    {
      "cell_type": "code",
      "source": [
        "'''\n",
        "14. Longest Common Prefix\n",
        "Easy\n",
        "Write a function to find the longest common prefix string amongst an array of strings.\n",
        "\n",
        "If there is no common prefix, return an empty string \"\".\n",
        "\n",
        "\n",
        "\n",
        "Example 1:\n",
        "\n",
        "Input: strs = [\"flower\",\"flow\",\"flight\"]\n",
        "Output: \"fl\"\n",
        "\n",
        "Example 2:\n",
        "\n",
        "Input: strs = [\"dog\",\"racecar\",\"car\"]\n",
        "Output: \"\"\n",
        "Explanation: There is no common prefix among the input strings.\n",
        "'''\n",
        "\n",
        "def longestCommonPrefix(strs):\n",
        "    \"\"\"\n",
        "    :type strs: List[str]\n",
        "    :rtype: str\n",
        "    \"\"\"\n",
        "    print('length of strs:',len(strs))\n",
        "    print('length of strs[0]:',len(strs[0]))\n",
        "\n",
        "    if not strs:\n",
        "        return \"\"\n",
        "    print(strs)\n",
        "    s = ''\n",
        "    for i in range(len(strs[0])):\n",
        "      # print('0',i,strs[0][i])\n",
        "      s.join(strs[0][i])\n",
        "\n",
        "      for j in range(len(strs)):\n",
        "        if j <= len(strs)-1 and i <= len(strs[j])-1 and j > 0:\n",
        "          # print('\\t',j,i,strs[j][i])\n",
        "          if strs[0][i] == strs[j][i]:\n",
        "            # print('pass')\n",
        "            s.join(strs[j][i])\n",
        "\n",
        "    print(s)\n",
        "    return s\n",
        "x = [\"flower\",\"flow\",\"flight\"]\n",
        "print(longestCommonPrefix(x))"
      ],
      "metadata": {
        "colab": {
          "base_uri": "https://localhost:8080/",
          "height": 367
        },
        "id": "BrUFsDKR3cMW",
        "outputId": "9354b3a1-530c-402b-de3b-bb200e5a1a67"
      },
      "execution_count": 74,
      "outputs": [
        {
          "output_type": "stream",
          "name": "stdout",
          "text": [
            "length of strs: 3\n",
            "length of strs[0]: 6\n",
            "['flower', 'flow', 'flight']\n"
          ]
        },
        {
          "output_type": "error",
          "ename": "TypeError",
          "evalue": "str.join() takes exactly one argument (2 given)",
          "traceback": [
            "\u001b[0;31m---------------------------------------------------------------------------\u001b[0m",
            "\u001b[0;31mTypeError\u001b[0m                                 Traceback (most recent call last)",
            "\u001b[0;32m/tmp/ipython-input-74-3011420814.py\u001b[0m in \u001b[0;36m<cell line: 0>\u001b[0;34m()\u001b[0m\n\u001b[1;32m     46\u001b[0m     \u001b[0;32mreturn\u001b[0m \u001b[0ms\u001b[0m\u001b[0;34m\u001b[0m\u001b[0;34m\u001b[0m\u001b[0m\n\u001b[1;32m     47\u001b[0m \u001b[0mx\u001b[0m \u001b[0;34m=\u001b[0m \u001b[0;34m[\u001b[0m\u001b[0;34m\"flower\"\u001b[0m\u001b[0;34m,\u001b[0m\u001b[0;34m\"flow\"\u001b[0m\u001b[0;34m,\u001b[0m\u001b[0;34m\"flight\"\u001b[0m\u001b[0;34m]\u001b[0m\u001b[0;34m\u001b[0m\u001b[0;34m\u001b[0m\u001b[0m\n\u001b[0;32m---> 48\u001b[0;31m \u001b[0mprint\u001b[0m\u001b[0;34m(\u001b[0m\u001b[0mlongestCommonPrefix\u001b[0m\u001b[0;34m(\u001b[0m\u001b[0mx\u001b[0m\u001b[0;34m)\u001b[0m\u001b[0;34m)\u001b[0m\u001b[0;34m\u001b[0m\u001b[0;34m\u001b[0m\u001b[0m\n\u001b[0m",
            "\u001b[0;32m/tmp/ipython-input-74-3011420814.py\u001b[0m in \u001b[0;36mlongestCommonPrefix\u001b[0;34m(strs)\u001b[0m\n\u001b[1;32m     34\u001b[0m     \u001b[0;32mfor\u001b[0m \u001b[0mi\u001b[0m \u001b[0;32min\u001b[0m \u001b[0mrange\u001b[0m\u001b[0;34m(\u001b[0m\u001b[0mlen\u001b[0m\u001b[0;34m(\u001b[0m\u001b[0mstrs\u001b[0m\u001b[0;34m[\u001b[0m\u001b[0;36m0\u001b[0m\u001b[0;34m]\u001b[0m\u001b[0;34m)\u001b[0m\u001b[0;34m)\u001b[0m\u001b[0;34m:\u001b[0m\u001b[0;34m\u001b[0m\u001b[0;34m\u001b[0m\u001b[0m\n\u001b[1;32m     35\u001b[0m       \u001b[0;31m# print('0',i,strs[0][i])\u001b[0m\u001b[0;34m\u001b[0m\u001b[0;34m\u001b[0m\u001b[0m\n\u001b[0;32m---> 36\u001b[0;31m       \u001b[0ms\u001b[0m\u001b[0;34m.\u001b[0m\u001b[0mjoin\u001b[0m\u001b[0;34m(\u001b[0m\u001b[0;34m''\u001b[0m\u001b[0;34m,\u001b[0m\u001b[0mstrs\u001b[0m\u001b[0;34m[\u001b[0m\u001b[0;36m0\u001b[0m\u001b[0;34m]\u001b[0m\u001b[0;34m[\u001b[0m\u001b[0mi\u001b[0m\u001b[0;34m]\u001b[0m\u001b[0;34m)\u001b[0m\u001b[0;34m\u001b[0m\u001b[0;34m\u001b[0m\u001b[0m\n\u001b[0m\u001b[1;32m     37\u001b[0m \u001b[0;34m\u001b[0m\u001b[0m\n\u001b[1;32m     38\u001b[0m       \u001b[0;32mfor\u001b[0m \u001b[0mj\u001b[0m \u001b[0;32min\u001b[0m \u001b[0mrange\u001b[0m\u001b[0;34m(\u001b[0m\u001b[0mlen\u001b[0m\u001b[0;34m(\u001b[0m\u001b[0mstrs\u001b[0m\u001b[0;34m)\u001b[0m\u001b[0;34m)\u001b[0m\u001b[0;34m:\u001b[0m\u001b[0;34m\u001b[0m\u001b[0;34m\u001b[0m\u001b[0m\n",
            "\u001b[0;31mTypeError\u001b[0m: str.join() takes exactly one argument (2 given)"
          ]
        }
      ]
    }
  ]
}