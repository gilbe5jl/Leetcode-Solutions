{
  "nbformat": 4,
  "nbformat_minor": 0,
  "metadata": {
    "colab": {
      "provenance": [],
      "authorship_tag": "ABX9TyMiKPXzkFa/CeufxvONdP8f",
      "include_colab_link": true
    },
    "kernelspec": {
      "name": "python3",
      "display_name": "Python 3"
    },
    "language_info": {
      "name": "python"
    }
  },
  "cells": [
    {
      "cell_type": "markdown",
      "metadata": {
        "id": "view-in-github",
        "colab_type": "text"
      },
      "source": [
        "<a href=\"https://colab.research.google.com/github/gilbe5jl/Leetcode-Solutions/blob/main/LeetCode.ipynb\" target=\"_parent\"><img src=\"https://colab.research.google.com/assets/colab-badge.svg\" alt=\"Open In Colab\"/></a>"
      ]
    },
    {
      "cell_type": "code",
      "source": [
        "def binary_search(lst,target):\n",
        "  left = 0\n",
        "  right = len(lst)-1\n",
        "  while left <= right:\n",
        "    mid = (left + right) // 2\n",
        "    if target == lst[mid]:\n",
        "      return mid\n",
        "    elif target < lst[mid]:\n",
        "      right = mid -1\n",
        "    else:\n",
        "      left = mid + 1\n",
        "  return -1"
      ],
      "metadata": {
        "id": "uBqcLBw5AzMx"
      },
      "execution_count": null,
      "outputs": []
    },
    {
      "cell_type": "code",
      "execution_count": 12,
      "metadata": {
        "colab": {
          "base_uri": "https://localhost:8080/"
        },
        "id": "QKwA5miPr6Xj",
        "outputId": "4f2d822c-59d2-4d09-cd1a-04cb66f3d3f8"
      },
      "outputs": [
        {
          "output_type": "stream",
          "name": "stdout",
          "text": [
            "54\n"
          ]
        }
      ],
      "source": [
        "'''\n",
        "I             1\n",
        "V             5\n",
        "X             10\n",
        "L             50\n",
        "C             100\n",
        "D             500\n",
        "M             1000\n",
        "\n",
        "\n",
        "    I can be placed before V (5) and X (10) to make 4 and 9.\n",
        "    X can be placed before L (50) and C (100) to make 40 and 90.\n",
        "    C can be placed before D (500) and M (1000) to make 400 and 900.\n",
        "\n",
        "'''\n",
        "\n",
        "def romanToInt(s):\n",
        "        \"\"\"\n",
        "        :type s: str\n",
        "        :rtype: int\n",
        "        \"\"\"\n",
        "        map = {'I':1, 'V':5, 'X':10, 'L':50, 'C':100, 'D':500, 'M':1000}\n",
        "        num = 0\n",
        "        for index,item in enumerate(s):\n",
        "          i = map[item]\n",
        "          if index == 0:\n",
        "            j = i\n",
        "          else:\n",
        "            j = map[s[index-1]]\n",
        "          if i <= j:\n",
        "            num += i\n",
        "          elif i > j:\n",
        "            num += i - j * 2\n",
        "        return num\n",
        "\n",
        "\n",
        "s =\"LIV\"\n",
        "print(romanToInt(s))"
      ]
    },
    {
      "cell_type": "code",
      "source": [
        "'''\n",
        "\n",
        "Write a function to find the longest common prefix string amongst an array of strings.\n",
        "\n",
        "If there is no common prefix, return an empty string \"\".\n",
        "\n",
        "\n",
        "\n",
        "Example 1:\n",
        "\n",
        "Input: strs = [\"flower\",\"flow\",\"flight\"]\n",
        "Output: \"fl\"\n",
        "\n",
        "Example 2:\n",
        "\n",
        "Input: strs = [\"dog\",\"racecar\",\"car\"]\n",
        "Output: \"\"\n",
        "Explanation: There is no common prefix among the input strings.\n",
        "\t•\tTake the first word as a starting point.\n",
        "\t•\tThen compare its letters with every other word, letter by letter.\n",
        "\t•\tIf they all match at that position, keep going.\n",
        "\t•\tIf any mismatch — stop. That’s the end of the prefix.\n",
        "\n",
        "'''\n",
        "\n",
        "def longestCommonPrefix(strs):\n",
        "    \"\"\"\n",
        "    :type strs: List[str] // array of strings\n",
        "    :rtype: str\n",
        "    \"\"\"\n",
        "    if not strs:\n",
        "      return \"\"\n",
        "    starting_point = strs[0]\n",
        "    starting_char = strs[0][0]\n",
        "    lst = []\n",
        "    for i in range(len(strs)-1):\n",
        "        # if strs[i][0] == starting_char and strs[i+1][0] == starting_char and i >0:\n",
        "        # print(i)\n",
        "        if i == 0:\n",
        "            lst.append(strs[i])\n",
        "            print(i,strs[i])\n",
        "        else:\n",
        "            lst.append(strs[i+1])\n",
        "            print(i,strs[i+1])\n",
        "\n",
        "\n",
        "    return lst\n",
        "\n",
        "\n",
        "x = [\"flower\",\"flow\",\"flight\"]\n",
        "print(longestCommonPrefix(x))\n"
      ],
      "metadata": {
        "colab": {
          "base_uri": "https://localhost:8080/"
        },
        "id": "nwageSuV-ZKN",
        "outputId": "0eb86b41-a921-4580-e7f6-770482d172e6"
      },
      "execution_count": 65,
      "outputs": [
        {
          "output_type": "stream",
          "name": "stdout",
          "text": [
            "0 flower\n",
            "1 flower\n",
            "['flower', 'flower']\n"
          ]
        }
      ]
    },
    {
      "cell_type": "code",
      "source": [
        "'''\n",
        "Pascal's Triangle\n",
        "\n",
        "Example 1:\n",
        "Input: numRows = 5\n",
        "Output: [[1],[1,1],[1,2,1],[1,3,3,1],[1,4,6,4,1]]\n",
        "\n",
        "Example 2:\n",
        "\n",
        "Input: numRows = 1\n",
        "Output: [[1]]\n",
        "'''\n",
        "\n",
        "def generate(numRows):\n",
        "    \"\"\"\n",
        "    :type numRows: int\n",
        "    :rtype: List[List[int]]\n",
        "    \"\"\"\n",
        "    lst = []\n",
        "    for i in range(1, numRows+1):\n",
        "      if i == 1:\n",
        "        lst.append([1])\n",
        "      else:\n",
        "        n=[]\n",
        "        for j in range(1, i+1):\n",
        "          if i >=3:\n",
        "            if j ==1 or j == i:\n",
        "              n.append(1)\n",
        "            else:\n",
        "              n.append(lst[i-2][j-1] + lst[i-2][j-2])\n",
        "          else:\n",
        "            n.append(1)\n",
        "        lst.append(n)\n",
        "    return lst\n",
        "\n",
        "x = 5\n",
        "print(generate(x))"
      ],
      "metadata": {
        "colab": {
          "base_uri": "https://localhost:8080/"
        },
        "id": "2nHXYCCNHE4x",
        "outputId": "a3421e49-9a9c-4779-f93d-c0fc23c441ab"
      },
      "execution_count": 103,
      "outputs": [
        {
          "output_type": "stream",
          "name": "stdout",
          "text": [
            "[[1], [1, 1], [1, 2, 1], [1, 3, 3, 1], [1, 4, 6, 4, 1]]\n"
          ]
        }
      ]
    },
    {
      "cell_type": "code",
      "source": [
        "'''\n",
        "Example 1:\n",
        "\n",
        "Input: digits = [1,2,3]\n",
        "Output: [1,2,4]\n",
        "Explanation: The array represents the integer 123.\n",
        "Incrementing by one gives 123 + 1 = 124.\n",
        "Thus, the result should be [1,2,4].\n",
        "\n",
        "Example 2:\n",
        "\n",
        "Input: digits = [4,3,2,1]\n",
        "Output: [4,3,2,2]\n",
        "Explanation: The array represents the integer 4321.\n",
        "Incrementing by one gives 4321 + 1 = 4322.\n",
        "Thus, the result should be [4,3,2,2].\n",
        "\n",
        "Example 3:\n",
        "\n",
        "Input: digits = [9]\n",
        "Output: [1,0]\n",
        "Explanation: The array represents the integer 9.\n",
        "Incrementing by one gives 9 + 1 = 10.\n",
        "Thus, the result should be [1,0].\n",
        "'''\n",
        "\n",
        "def plusOne(digits):\n",
        "    \"\"\"\n",
        "    :type digits: List[int]\n",
        "    :rtype: List[int]\n",
        "    \"\"\"\n",
        "    # num = 0\n",
        "    # for item in range(len(digits)):\n",
        "    #     z = (item-len(digits))*(-1)-1\n",
        "    #     digit = str(digits[item])\n",
        "    #     for j in range(z):\n",
        "    #         digit += '0'\n",
        "    #     num += int(digit)\n",
        "    # num = num + 1\n",
        "    # lst = []\n",
        "    # for i in str(num):\n",
        "    #     lst.append(int(i))\n",
        "    lst = []\n",
        "    for i in digits:\n",
        "        lst.append(str(i))\n",
        "    ss = ''.join(lst)\n",
        "    ss = str(int(ss) + 1)\n",
        "    lst = []\n",
        "    for i in ss:\n",
        "        lst.append(int(i))\n",
        "    return lst\n",
        "\n",
        "x = [4,3,2,1]\n",
        "print('answer:',plusOne(x))\n"
      ],
      "metadata": {
        "colab": {
          "base_uri": "https://localhost:8080/"
        },
        "id": "9fdI0_akkoi3",
        "outputId": "1829bdd9-e6f8-41d4-871e-afbd6a2bba9d"
      },
      "execution_count": 109,
      "outputs": [
        {
          "output_type": "stream",
          "name": "stdout",
          "text": [
            "answer: [4, 3, 2, 2]\n"
          ]
        }
      ]
    },
    {
      "cell_type": "code",
      "source": [
        "'''\n",
        "Example 1:\n",
        "\n",
        "Input: nums = [2,2,1]\n",
        "\n",
        "Output: 1\n",
        "\n",
        "Example 2:\n",
        "\n",
        "Input: nums = [4,1,2,1,2]\n",
        "\n",
        "Output: 4\n",
        "\n",
        "Example 3:\n",
        "\n",
        "Input: nums = [1]\n",
        "\n",
        "Output: 1\n",
        "'''\n",
        "\n",
        "def singleNumber(nums):\n",
        "    \"\"\"\n",
        "    :type nums: List[int]\n",
        "    :rtype: int\n",
        "    \"\"\"\n",
        "    def bs(lst,target):\n",
        "      left = 0\n",
        "      right = len(lst)-1\n",
        "      while left <= right:\n",
        "        mid = (left + right) // 2\n",
        "        if target == lst[mid]:\n",
        "          return mid\n",
        "        elif target < lst[mid]:\n",
        "          right = mid -1\n",
        "        else:\n",
        "          left = mid + 1\n",
        "      return -1\n",
        "\n",
        "    # for i in nums:\n",
        "    #   # print(i)\n",
        "    #   # print(nums[i])\n",
        "    nums.sort()\n",
        "    print(nums)\n",
        "    for i in nums:\n",
        "      print(bs(nums,i))\n",
        "    return \"\"\n",
        "\n",
        "nums = [4,1,2,1,2]\n",
        "print(singleNumber(nums))"
      ],
      "metadata": {
        "colab": {
          "base_uri": "https://localhost:8080/"
        },
        "id": "yvBdr9gOmEwQ",
        "outputId": "8f579e77-4744-4845-b3c7-e2ff9f444640"
      },
      "execution_count": 28,
      "outputs": [
        {
          "output_type": "stream",
          "name": "stdout",
          "text": [
            "[1, 1, 2, 2, 4]\n",
            "0\n",
            "0\n",
            "2\n",
            "2\n",
            "4\n",
            "\n"
          ]
        }
      ]
    }
  ]
}